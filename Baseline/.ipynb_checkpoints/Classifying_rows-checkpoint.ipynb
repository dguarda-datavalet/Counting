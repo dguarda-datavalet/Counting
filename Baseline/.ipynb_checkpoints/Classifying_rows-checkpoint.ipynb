{
 "cells": [
  {
   "cell_type": "markdown",
   "id": "abc0fa1d-4674-499e-a83d-c796eacb78e7",
   "metadata": {},
   "source": [
    "This script has the following objectives:  \n",
    "- Reading the data-prod-270222.datascience.counting_baseline_raw table  \n",
    "- Computing the features on the dataset to classify the rows as IN or OUT  \n",
    "- Saving the table with only the IN remaining\n",
    "\n",
    "The principal aim is to filter out the associated devices and use that as a baseline to add on afterward..."
   ]
  },
  {
   "cell_type": "code",
   "execution_count": 13,
   "id": "1952fa2f-a734-4685-8db4-96b73edb7fbf",
   "metadata": {},
   "outputs": [],
   "source": [
    "import numpy as np\n",
    "import pandas as pd\n",
    "from itertools import chain\n",
    "from scipy.stats import uniform, randint\n",
    "\n",
    "from sklearn.datasets import load_breast_cancer, load_diabetes, load_wine\n",
    "from sklearn.metrics import auc, accuracy_score, confusion_matrix, mean_squared_error, balanced_accuracy_score, f1_score\n",
    "from sklearn.model_selection import cross_val_score, GridSearchCV, KFold, RandomizedSearchCV, train_test_split\n",
    "import sklearn\n",
    "import joblib\n",
    "\n",
    "import xgboost as xgb\n",
    "from sklearn.preprocessing import LabelEncoder\n",
    "from matplotlib import pyplot as plt\n",
    "\n",
    "#saving bigtable\n",
    "import pandas_gbq\n",
    "from datalab.context import Context\n",
    "import datalab.storage as storage\n",
    "import datalab.bigquery as bq\n",
    "from pandas import DataFrame\n",
    "import time\n",
    "from tqdm import tqdm\n",
    "tqdm.pandas()"
   ]
  },
  {
   "cell_type": "code",
   "execution_count": 14,
   "id": "be886ec6-494a-4d8c-9847-16aa81abf77d",
   "metadata": {},
   "outputs": [
    {
     "name": "stderr",
     "output_type": "stream",
     "text": [
      "/opt/conda/lib/python3.7/site-packages/xgboost/sklearn.py:742: UserWarning: Loading a native XGBoost model with Scikit-Learn interface.\n",
      "  'Loading a native XGBoost model with Scikit-Learn interface.'\n"
     ]
    }
   ],
   "source": [
    "clf = xgb.XGBClassifier()\n",
    "clf.load_model('../../InOut/Training_pipeline/InOut_V0.1_04102022_central.model')"
   ]
  },
  {
   "cell_type": "code",
   "execution_count": 15,
   "id": "a837329d-bf61-404f-965f-e59cecfc51c7",
   "metadata": {},
   "outputs": [
    {
     "name": "stderr",
     "output_type": "stream",
     "text": [
      "Query complete after 0.00s: 100%|██████████| 1/1 [00:00<00:00, 466.09query/s]                          \n",
      "Downloading: 100%|██████████| 7972/7972 [00:00<00:00, 16776.42rows/s]\n"
     ]
    }
   ],
   "source": [
    "%%bigquery df_farmboy_matrix\n",
    "SELECT *\n",
    "FROM  data-prod-270222.datascience.counting_baseline_matrix\n",
    "limit 100000"
   ]
  },
  {
   "cell_type": "code",
   "execution_count": 16,
   "id": "15b65e3a-d7b0-4b94-831f-2ea82a153359",
   "metadata": {},
   "outputs": [],
   "source": [
    "df_farmboy_matrix = df_farmboy_matrix.reset_index().sort_values(['device_mac','Timestamp']).set_index(['device_mac','Timestamp'])\n",
    "df_farmboy_matrix.drop(['index'], axis=1, inplace=True)"
   ]
  },
  {
   "cell_type": "code",
   "execution_count": 17,
   "id": "3addd903-27c0-432b-a219-2bccb873bf33",
   "metadata": {},
   "outputs": [],
   "source": [
    "df_farmboy_matrix['InOut_Label'] = clf.predict(df_farmboy_matrix)"
   ]
  },
  {
   "cell_type": "code",
   "execution_count": 18,
   "id": "5242737f-f1d8-4169-8570-9c1e37e383af",
   "metadata": {},
   "outputs": [
    {
     "data": {
      "text/plain": [
       "7972"
      ]
     },
     "execution_count": 18,
     "metadata": {},
     "output_type": "execute_result"
    }
   ],
   "source": [
    "len(df_farmboy_matrix)"
   ]
  },
  {
   "cell_type": "code",
   "execution_count": 19,
   "id": "a7946ba2-b049-4d0f-8ee8-e658bc0cd0cf",
   "metadata": {},
   "outputs": [],
   "source": [
    "df_farmboy_matrix = df_farmboy_matrix[df_farmboy_matrix['InOut_Label'] == 1]"
   ]
  },
  {
   "cell_type": "code",
   "execution_count": 20,
   "id": "559c1db4-45c2-4776-965d-de52db4b21dc",
   "metadata": {},
   "outputs": [
    {
     "data": {
      "text/plain": [
       "7972"
      ]
     },
     "execution_count": 20,
     "metadata": {},
     "output_type": "execute_result"
    }
   ],
   "source": [
    "len(df_farmboy_matrix)"
   ]
  },
  {
   "cell_type": "code",
   "execution_count": 21,
   "id": "2d5a673d-e76d-46f8-b728-4f1defc83cf9",
   "metadata": {},
   "outputs": [
    {
     "name": "stderr",
     "output_type": "stream",
     "text": [
      "100%|██████████| 1/1 [00:00<00:00, 10699.76it/s]"
     ]
    },
    {
     "name": "stdout",
     "output_type": "stream",
     "text": [
      "time alternative 1 2.9460999965667725\n"
     ]
    },
    {
     "name": "stderr",
     "output_type": "stream",
     "text": [
      "\n"
     ]
    }
   ],
   "source": [
    "start = time.time()\n",
    "df_farmboy_matrix.reset_index(drop=False).to_gbq('data-prod-270222.datascience.counting_baseline_clean', \n",
    "                 'data-prod-270222',\n",
    "                 chunksize=10000, \n",
    "                 if_exists='replace'\n",
    "                 )\n",
    "end = time.time()\n",
    "print(\"time alternative 1 \" + str(end - start))"
   ]
  },
  {
   "cell_type": "markdown",
   "id": "602b3270-cc08-4086-a82c-880b325e8bff",
   "metadata": {},
   "source": [
    "In this particular case, all observations are deemed IN by the model, better safe than sorry..."
   ]
  }
 ],
 "metadata": {
  "environment": {
   "kernel": "python3",
   "name": "common-cpu.m95",
   "type": "gcloud",
   "uri": "gcr.io/deeplearning-platform-release/base-cpu:m95"
  },
  "kernelspec": {
   "display_name": "Python 3 (ipykernel)",
   "language": "python",
   "name": "python3"
  },
  "language_info": {
   "codemirror_mode": {
    "name": "ipython",
    "version": 3
   },
   "file_extension": ".py",
   "mimetype": "text/x-python",
   "name": "python",
   "nbconvert_exporter": "python",
   "pygments_lexer": "ipython3",
   "version": "3.7.12"
  }
 },
 "nbformat": 4,
 "nbformat_minor": 5
}
