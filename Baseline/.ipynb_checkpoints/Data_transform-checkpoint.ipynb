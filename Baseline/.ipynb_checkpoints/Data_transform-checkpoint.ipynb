{
 "cells": [
  {
   "cell_type": "markdown",
   "id": "15e58b45-a11f-4634-a5b4-a72498aa7552",
   "metadata": {},
   "source": [
    "This script has the following objectives:  \n",
    "- Reading the data-prod-270222.datascience.counting_baseline_raw table  \n",
    "- Computing the features on the dataset to classify the rows as IN or OUT  \n",
    "- Saving the table\n",
    "\n",
    "The principal aim is to filter out the associated devices and use that as a baseline to add on afterward..."
   ]
  },
  {
   "cell_type": "code",
   "execution_count": 7,
   "id": "5ad79695-0799-468b-a821-48f53fe50796",
   "metadata": {},
   "outputs": [],
   "source": [
    "import pandas as pd\n",
    "import numpy as np\n",
    "from itertools import chain\n",
    "\n",
    "#saving bigtable\n",
    "import pandas_gbq\n",
    "from datalab.context import Context\n",
    "import datalab.storage as storage\n",
    "import datalab.bigquery as bq\n",
    "from pandas import DataFrame\n",
    "import time\n",
    "from tqdm import tqdm\n",
    "tqdm.pandas()"
   ]
  },
  {
   "cell_type": "code",
   "execution_count": 8,
   "id": "1591918d-31d9-40e6-bd73-34576fab16a0",
   "metadata": {},
   "outputs": [],
   "source": [
    "#Fonctions for feature computation\n",
    "def transform_column_feature(udf, df, column_to_compute):\n",
    "    '''\n",
    "    Transforming a grouped column using a udf, returns a dataframe column\n",
    "    '''\n",
    "    new_column = pd.DataFrame(pd.Series(list(chain.from_iterable(df.groupby('device_mac')[column_to_compute].apply(lambda x: udf(x))))))\n",
    "    return new_column\n",
    "\n",
    "def rolling_window_column_feature(udf, df, column_to_compute, window_size, new_col_str):\n",
    "    '''\n",
    "    Transforming a grouped column using a udf, returns a dataframe\n",
    "    '''\n",
    "    start = time.time()\n",
    "    new_column = (pd.DataFrame(df.groupby('device_mac')[column_to_compute]\n",
    "                               .rolling(window_size, min_periods=1)\n",
    "                               .progress_apply(lambda x: udf(x))\n",
    "                               .reset_index()[column_to_compute]))\n",
    "    end = time.time()\n",
    "    print(f\"Computed {new_col_str} in: \" + str(end - start))\n",
    "    return new_column\n",
    "            \n",
    "def factorize_column(x):\n",
    "    return pd.factorize(x)[0]\n",
    "                                  \n",
    "def len_unique(x):\n",
    "    return len(np.unique(x))"
   ]
  },
  {
   "cell_type": "code",
   "execution_count": 9,
   "id": "5eafe2a5-7628-44f8-bde3-940958366bf3",
   "metadata": {},
   "outputs": [
    {
     "name": "stderr",
     "output_type": "stream",
     "text": [
      "Query complete after 0.00s: 100%|██████████| 2/2 [00:00<00:00, 1096.69query/s]                        \n",
      "Downloading: 100%|██████████| 7972/7972 [00:00<00:00, 11473.72rows/s]\n"
     ]
    }
   ],
   "source": [
    "%%bigquery df_farmboy_matrix\n",
    "SELECT *\n",
    "FROM  data-prod-270222.datascience.counting_baseline_raw\n",
    "limit 100000"
   ]
  },
  {
   "cell_type": "code",
   "execution_count": 10,
   "id": "93b7b1c3-63d4-4104-917b-747e91f6c940",
   "metadata": {},
   "outputs": [],
   "source": [
    "#sorting values needed for correct rolling computation\n",
    "df_farmboy_matrix['times'] = df_farmboy_matrix['Timestamp']\n",
    "\n",
    "central_mean = df_farmboy_matrix[df_farmboy_matrix['signal_strength']<-20]['signal_strength'].median()\n",
    "df_farmboy_matrix['signal_strength'] = df_farmboy_matrix['signal_strength'] - (central_mean)\n",
    "\n",
    "df_farmboy_matrix.sort_values(['device_mac','Timestamp'], inplace = True)\n",
    "df_farmboy_matrix.reset_index(inplace=True)"
   ]
  },
  {
   "cell_type": "code",
   "execution_count": 11,
   "id": "f6a2d8fe-a5e2-43a1-a2dc-dadf0a78413b",
   "metadata": {},
   "outputs": [
    {
     "name": "stderr",
     "output_type": "stream",
     "text": [
      "7972it [00:00, 19707.96it/s]\n"
     ]
    },
    {
     "name": "stdout",
     "output_type": "stream",
     "text": [
      "Computed times_count_5w in: 0.4100503921508789\n"
     ]
    },
    {
     "name": "stderr",
     "output_type": "stream",
     "text": [
      "7972it [00:00, 38631.63it/s]\n"
     ]
    },
    {
     "name": "stdout",
     "output_type": "stream",
     "text": [
      "Computed len_signal_strength in: 0.2119457721710205\n"
     ]
    },
    {
     "name": "stderr",
     "output_type": "stream",
     "text": [
      "7972it [00:00, 35269.45it/s]"
     ]
    },
    {
     "name": "stdout",
     "output_type": "stream",
     "text": [
      "Computed max_signal_strength in: 0.23171567916870117\n"
     ]
    },
    {
     "name": "stderr",
     "output_type": "stream",
     "text": [
      "\n"
     ]
    }
   ],
   "source": [
    "df_farmboy_matrix['times_count_5w'] = transform_column_feature(factorize_column, df_farmboy_matrix, 'times')\n",
    "df_farmboy_matrix['times_count_5w'] = rolling_window_column_feature(len_unique, df_farmboy_matrix, 'times_count_5w', 5, 'times_count_5w')\n",
    "df_farmboy_matrix['len_signal_strength'] = rolling_window_column_feature(len, df_farmboy_matrix, 'signal_strength', 1000, 'len_signal_strength')\n",
    "df_farmboy_matrix['max_signal_strength'] = rolling_window_column_feature(max, df_farmboy_matrix, 'signal_strength', 10, 'max_signal_strength')"
   ]
  },
  {
   "cell_type": "code",
   "execution_count": 12,
   "id": "0d604234-fe67-419c-b8f6-ff70faac3254",
   "metadata": {},
   "outputs": [
    {
     "name": "stderr",
     "output_type": "stream",
     "text": [
      "100%|██████████| 1/1 [00:00<00:00, 10082.46it/s]"
     ]
    },
    {
     "name": "stdout",
     "output_type": "stream",
     "text": [
      "time alternative 1 3.3416666984558105\n"
     ]
    },
    {
     "name": "stderr",
     "output_type": "stream",
     "text": [
      "\n"
     ]
    }
   ],
   "source": [
    "start = time.time()\n",
    "df_farmboy_matrix[['device_mac','Timestamp','times_count_5w','signal_strength','len_signal_strength','max_signal_strength']].to_gbq('data-prod-270222.datascience.counting_baseline_matrix', \n",
    "                 'data-prod-270222',\n",
    "                 chunksize=10000, \n",
    "                 if_exists='replace'\n",
    "                 )\n",
    "end = time.time()\n",
    "print(\"time alternative 1 \" + str(end - start))"
   ]
  },
  {
   "cell_type": "code",
   "execution_count": null,
   "id": "cc589c27-4c29-43c6-a10e-a01413f7b348",
   "metadata": {},
   "outputs": [],
   "source": []
  }
 ],
 "metadata": {
  "environment": {
   "kernel": "python3",
   "name": "common-cpu.m95",
   "type": "gcloud",
   "uri": "gcr.io/deeplearning-platform-release/base-cpu:m95"
  },
  "kernelspec": {
   "display_name": "Python 3 (ipykernel)",
   "language": "python",
   "name": "python3"
  },
  "language_info": {
   "codemirror_mode": {
    "name": "ipython",
    "version": 3
   },
   "file_extension": ".py",
   "mimetype": "text/x-python",
   "name": "python",
   "nbconvert_exporter": "python",
   "pygments_lexer": "ipython3",
   "version": "3.7.12"
  }
 },
 "nbformat": 4,
 "nbformat_minor": 5
}
