{
 "cells": [
  {
   "cell_type": "markdown",
   "id": "f3c0f89c-2142-46da-8103-758f24e7207e",
   "metadata": {},
   "source": [
    "This script has the following objectives:  \n",
    "- Joining the OUI tables together (derived.oui and meta.14112022_oui) to get a maximum number of device captured  \n",
    "- Extracting the data and cleaning it, only keeping the mobile devices that are associated\n",
    "\n",
    "The principal aim is to filter out the associated devices and use that as a baseline to add on afterward..."
   ]
  },
  {
   "cell_type": "code",
   "execution_count": 5,
   "id": "46e8018a-87f9-4bb3-8517-faad62756cdf",
   "metadata": {},
   "outputs": [],
   "source": [
    "#saving bigtable\n",
    "import pandas_gbq\n",
    "from datalab.context import Context\n",
    "import datalab.storage as storage\n",
    "import datalab.bigquery as bq\n",
    "from pandas import DataFrame\n",
    "import time\n",
    "from tqdm import tqdm\n",
    "tqdm.pandas()"
   ]
  },
  {
   "cell_type": "code",
   "execution_count": 11,
   "id": "a24f75ae-661d-4681-8e3f-0e3a6f78b2b4",
   "metadata": {},
   "outputs": [
    {
     "name": "stderr",
     "output_type": "stream",
     "text": [
      "Query complete after 0.00s: 100%|██████████| 9/9 [00:00<00:00, 4618.15query/s]                        \n",
      "Downloading: 100%|██████████| 7972/7972 [00:00<00:00, 12034.42rows/s]\n"
     ]
    }
   ],
   "source": [
    "%%bigquery df_onroute_visit_raw\n",
    "with oui_merged as(\n",
    "Select COALESCE(oui.oui, oui_parsed.oui) as oui, COALESCE(oui.companyName, oui_parsed.companyName) as companyName\n",
    "from data-prod-270222.meta.oui oui\n",
    "full outer join data-prod-270222.derived.14102022_oui oui_parsed on utils.normalize_mac(oui.oui) = utils.normalize_mac(oui_parsed.oui)\n",
    ")\n",
    "SELECT scout.device_mac, scout.ap_oem, scout.Timestamp_ms, scout.Timestamp, datetime(timestamp_seconds(scout.timestamp)) as local_time,\n",
    "scout.signal_strength, scout.noise_floor, scout.channel, hard.brand_name, hard.market_segment, scout.ap_mac, hard.site_uuid, oui.*\n",
    "FROM  data-prod-270222.raw.rtls_scout_raw scout\n",
    "join meta.hardware_details as hard on utils.normalize_mac(scout.ap_mac) = utils.normalize_mac(hard.mac)\n",
    "join oui_merged as oui on SUBSTRING(scout.device_mac, 1, 6) like utils.normalize_mac(oui.oui)\n",
    "where scout.timestamp between 1639756800 and 1639760400\n",
    "and hard.site_uuid = '771f6b8e-7cfb-44ff-bc68-d0233ebf8db8'\n",
    "and companyName IN ('Apple, Inc', 'Apple, Inc.', 'Google, Inc', 'Huawei Tech Co, Ltd', 'Intel Corp', 'Tct mobile Ltd', \n",
    "                    'LG Electronics (Mobile Communications)', 'LG innotek', 'Samsung Electro-Mechanics(Thailand)',\n",
    "                    'Motorola Mobility Llc, a Lenovo Co', 'Samsung Electronics Co, Ltd', 'vivo Mobile Communication Co, Ltd',\n",
    "                    'Mobiwire Mobiles (Ningbo) Co, Ltd', 'Motorola (Wuhan) Mobility Tech Communication Co, Ltd',\n",
    "                     'Samsung Electro-Mechanics(Thailand)')\n",
    "order by scout.timestamp\n",
    "limit 100000"
   ]
  },
  {
   "cell_type": "code",
   "execution_count": null,
   "id": "bf233645-e582-4d95-bf02-e0df5e665597",
   "metadata": {},
   "outputs": [
    {
     "data": {
      "text/plain": [
       "{'ALPSALPINE CO .,LTD',\n",
       " 'Alps Electric Co, Ltd',\n",
       " 'Amazon Tech Inc',\n",
       " 'Ampak Tech, Inc',\n",
       " 'Apple, Inc',\n",
       " 'Apple, Inc.',\n",
       " 'Aruba, a Hewlett Packard Enterprise Co',\n",
       " 'Chongqing Fugui Electronics Co, Ltd',\n",
       " 'Cisco Meraki',\n",
       " 'Cisco Systems, Inc',\n",
       " 'Cisco-Linksys, Llc',\n",
       " 'Continental Automotive Systems Inc',\n",
       " 'CyberTAN Tech Inc',\n",
       " 'D-Link International',\n",
       " 'Danlaw Inc',\n",
       " 'Epigram, Inc',\n",
       " 'Espressif Inc',\n",
       " 'Essys',\n",
       " 'Ezurio Ltd',\n",
       " 'FN-Link Tech Ltd',\n",
       " 'Ford Motor Co',\n",
       " 'Garmin International',\n",
       " 'Google, Inc',\n",
       " 'Guangdong Huiwei High-Tech Co, Ltd',\n",
       " 'Guangdong Oppo Mobile Telecommunications Corp, Ltd',\n",
       " 'HP Inc',\n",
       " 'Harman/Becker Automotive Systems GmbH',\n",
       " 'Hewlett Packard',\n",
       " 'Hon Hai Precision Ind. Co, Ltd',\n",
       " 'Huawei Tech Co, Ltd',\n",
       " 'Ieee Registration Authority',\n",
       " 'Intel Corp',\n",
       " 'Isaac Instruments',\n",
       " 'LG Electronics (Mobile Communications)',\n",
       " 'LG innotek',\n",
       " 'LM Tech Ltd',\n",
       " 'LS Research, Llc',\n",
       " 'MediaTek Inc',\n",
       " 'Microsoft Corp',\n",
       " 'Mitsumi Electric Co, Ltd',\n",
       " 'Motorola (Wuhan) Mobility Tech Communication Co, Ltd',\n",
       " 'Motorola Mobility LLC, a Lenovo Company',\n",
       " 'Motorola Mobility Llc, a Lenovo Co',\n",
       " 'Murata Manufacturing Co, Ltd',\n",
       " 'Partron',\n",
       " 'PeopleNet Communication',\n",
       " 'Pittasoft',\n",
       " 'Pmc-Sierra, Inc',\n",
       " 'Quanta Computer Inc',\n",
       " 'Rand McNally',\n",
       " 'Sagemcom Broadband Sas',\n",
       " 'Samsara Networks Inc',\n",
       " 'Samsung Electro-Mechanics(Thailand)',\n",
       " 'Samsung Electronics Co, Ltd',\n",
       " 'Shanghai Simcom Ltd',\n",
       " 'Shenzhen Bilian Electronic Co，Ltd',\n",
       " 'Shenzhen RF-Link Tech Co, Ltd',\n",
       " 'Shenzhen Yichen Tech Development Co, Ltd',\n",
       " 'Silex Tech, Inc',\n",
       " 'Sony Mobile Communications Inc',\n",
       " 'Tct mobile Ltd',\n",
       " 'Telit Communication s.p.a',\n",
       " 'Texas Instruments',\n",
       " 'Visteon Corp',\n",
       " 'Wistron Neweb Corp',\n",
       " 'Wistron Neweb Corporation',\n",
       " 'Zebra Tech Inc',\n",
       " 'u-blox AG',\n",
       " 'xRAN.org'}"
      ]
     },
     "execution_count": 10,
     "metadata": {},
     "output_type": "execute_result"
    }
   ],
   "source": [
    "len(set(df_onroute_visit_raw['device_mac']))"
   ]
  },
  {
   "cell_type": "code",
   "execution_count": 8,
   "id": "707bbb23-3e23-419d-866f-5f0f04629c42",
   "metadata": {},
   "outputs": [
    {
     "name": "stderr",
     "output_type": "stream",
     "text": [
      "100%|██████████| 1/1 [00:00<00:00, 10618.49it/s]"
     ]
    },
    {
     "name": "stdout",
     "output_type": "stream",
     "text": [
      "time alternative 1 4.658047199249268\n"
     ]
    },
    {
     "name": "stderr",
     "output_type": "stream",
     "text": [
      "\n"
     ]
    }
   ],
   "source": [
    "start = time.time()\n",
    "df_onroute_visit_raw.to_gbq('data-prod-270222.datascience.counting_baseline_raw', \n",
    "                 'data-prod-270222',\n",
    "                 chunksize=10000, \n",
    "                 if_exists='replace'\n",
    "                 )\n",
    "end = time.time()\n",
    "print(\"time alternative 1 \" + str(end - start))"
   ]
  },
  {
   "cell_type": "code",
   "execution_count": null,
   "id": "d2f176ea-80e1-4419-a7b5-1552dc80e3d9",
   "metadata": {},
   "outputs": [],
   "source": []
  }
 ],
 "metadata": {
  "environment": {
   "kernel": "python3",
   "name": "common-cpu.m95",
   "type": "gcloud",
   "uri": "gcr.io/deeplearning-platform-release/base-cpu:m95"
  },
  "kernelspec": {
   "display_name": "Python 3 (ipykernel)",
   "language": "python",
   "name": "python3"
  },
  "language_info": {
   "codemirror_mode": {
    "name": "ipython",
    "version": 3
   },
   "file_extension": ".py",
   "mimetype": "text/x-python",
   "name": "python",
   "nbconvert_exporter": "python",
   "pygments_lexer": "ipython3",
   "version": "3.7.12"
  }
 },
 "nbformat": 4,
 "nbformat_minor": 5
}
