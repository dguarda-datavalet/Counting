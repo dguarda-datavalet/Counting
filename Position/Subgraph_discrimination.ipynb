{
 "cells": [
  {
   "cell_type": "markdown",
   "id": "e1d94eb9-4bf7-4af0-af3d-45b19d097331",
   "metadata": {},
   "source": [
    "## Discriminating sub graphes\n",
    "Now that the devices have been found we have to automatically discriminate between the interesting devices and least interesting ones,  \n",
    "we will do that using k-means clustering and clustering on sub graph length and total distance accrued to create two sets of two cluster,  \n",
    "Short vs long subgraphes, mobile vs non mobile devices"
   ]
  },
  {
   "cell_type": "code",
   "execution_count": 1,
   "id": "c9939298-63fd-4d01-9f3d-a5fc33621b83",
   "metadata": {},
   "outputs": [],
   "source": [
    "import pandas as pd\n",
    "import numpy as np\n",
    "import itertools\n",
    "from sklearn.cluster import KMeans\n",
    "import networkx as nx\n",
    "\n",
    "import sys  \n",
    "sys.path.insert(0, './Functions/')\n",
    "\n",
    "from Object import Position_graph\n",
    "import Subgraph"
   ]
  },
  {
   "cell_type": "code",
   "execution_count": 2,
   "id": "c55a0466-c8d0-4d82-bd75-e7b5d0ca6060",
   "metadata": {},
   "outputs": [
    {
     "name": "stderr",
     "output_type": "stream",
     "text": [
      "Query complete after 0.00s: 100%|██████████| 1/1 [00:00<00:00, 809.55query/s] \n",
      "Downloading: 100%|██████████| 82228/82228 [00:00<00:00, 152374.86rows/s]\n"
     ]
    }
   ],
   "source": [
    "%%bigquery df_onroute_position_window\n",
    "Select *\n",
    "from data-prod-270222.datascience.position_raw"
   ]
  },
  {
   "cell_type": "code",
   "execution_count": 3,
   "id": "b65870e3-1d21-47d4-a00d-1b85de8b8329",
   "metadata": {},
   "outputs": [
    {
     "name": "stdout",
     "output_type": "stream",
     "text": [
      "New empty graph\n",
      "Length of dataset: 82228\n",
      "Slice from 0 to 128 computed for distance stored under the active_distance_slice attribute\n"
     ]
    },
    {
     "name": "stderr",
     "output_type": "stream",
     "text": [
      "100%|██████████| 128/128 [01:13<00:00,  1.75it/s]\n"
     ]
    },
    {
     "name": "stdout",
     "output_type": "stream",
     "text": [
      "Computed 191 roots with a total of 2583 total paths!\n",
      "    Found 43 device!\n",
      "Computed 132 roots with a total of 1460 total paths!\n",
      "    Found 15 device!\n",
      "Computed 83 roots with a total of 1437 total paths!\n",
      "    Found 12 device!\n",
      "Added 70 devices subgraphs under the subgraph attribute\n"
     ]
    }
   ],
   "source": [
    "mygraph = Position_graph(df_onroute_position_window)\n",
    "mygraph.window_kwargs = {\n",
    "            'min_window_len':10,\n",
    "            'min_value_len':5,\n",
    "        }\n",
    "mygraph.compute_window()\n",
    "mygraph.compute_graph(seq_pourc = 0.25)\n",
    "#adding time window attribute to graph\n",
    "#Subgraph.set_nodes_time_window_attribute(mygraph, mygraph.graph.nodes)\n",
    "\n",
    "mygraph.compute_subgraphs(pourcentage_complete_paths = 0.25)"
   ]
  },
  {
   "cell_type": "code",
   "execution_count": 4,
   "id": "c9baa293-dbf8-4877-b35a-2e738c6b9311",
   "metadata": {},
   "outputs": [],
   "source": [
    "mygraph.subgraph.sort(key=lambda x: x[1][0])"
   ]
  },
  {
   "cell_type": "code",
   "execution_count": 5,
   "id": "3ed5e6c4-5d30-4681-a2cc-4186ba4029b6",
   "metadata": {},
   "outputs": [
    {
     "name": "stderr",
     "output_type": "stream",
     "text": [
      "/opt/conda/lib/python3.7/site-packages/numpy/lib/function_base.py:4663: VisibleDeprecationWarning: Creating an ndarray from ragged nested sequences (which is a list-or-tuple of lists-or-tuples-or ndarrays with different lengths or shapes) is deprecated. If you meant to do this, you must specify 'dtype=object' when creating the ndarray.\n",
      "  arr = asarray(arr)\n"
     ]
    }
   ],
   "source": [
    "#removing the smallish subgraph in favor for the bigger ones and clustering on only distance travelled\n",
    "devices_to_cluster = [(d[-1][0],1) for d in mygraph.subgraph if d[-1][1]>3]\n",
    "#separating data in 2 cluster, hopefully non mobile and mobile devices!\n",
    "kmeans = KMeans(n_clusters=2).fit_predict(devices_to_cluster)\n",
    "devices_clustered = np.insert([d for d in mygraph.subgraph if d[-1][1]>3], 0, kmeans, axis=1)\n",
    "\n",
    "if np.mean([d[-1][0] for d in devices_clustered if d[0]==0])>np.mean([d[-1][0] for d in devices_clustered if d[0]==1]):\n",
    "    mobile_cluster_index = 0\n",
    "else:\n",
    "    mobile_cluster_index = 1"
   ]
  },
  {
   "cell_type": "code",
   "execution_count": 6,
   "id": "76f60e07-5c72-4e56-8e13-a1178c2be797",
   "metadata": {},
   "outputs": [],
   "source": [
    "mobile_devices = [d for d in devices_clustered if d[0]==mobile_cluster_index]"
   ]
  },
  {
   "cell_type": "code",
   "execution_count": null,
   "id": "36e223f9-2d48-4e9c-ac8f-29d42d2566e0",
   "metadata": {},
   "outputs": [],
   "source": []
  }
 ],
 "metadata": {
  "environment": {
   "kernel": "python3",
   "name": "common-cpu.m95",
   "type": "gcloud",
   "uri": "gcr.io/deeplearning-platform-release/base-cpu:m95"
  },
  "kernelspec": {
   "display_name": "Python 3 (ipykernel)",
   "language": "python",
   "name": "python3"
  },
  "language_info": {
   "codemirror_mode": {
    "name": "ipython",
    "version": 3
   },
   "file_extension": ".py",
   "mimetype": "text/x-python",
   "name": "python",
   "nbconvert_exporter": "python",
   "pygments_lexer": "ipython3",
   "version": "3.7.12"
  }
 },
 "nbformat": 4,
 "nbformat_minor": 5
}
