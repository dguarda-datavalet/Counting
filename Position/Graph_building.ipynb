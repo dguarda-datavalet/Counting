{
 "cells": [
  {
   "cell_type": "code",
   "execution_count": 1,
   "id": "94400580-cb05-4a98-ada2-7239951380dc",
   "metadata": {},
   "outputs": [],
   "source": [
    "import pandas as pd\n",
    "import numpy as np\n",
    "import networkx as nx\n",
    "from itertools import chain\n",
    "from tqdm import tqdm\n",
    "import matplotlib.pyplot as plt\n",
    "from matplotlib.pyplot import figure\n",
    "import pydot\n",
    "import pygraphviz"
   ]
  },
  {
   "cell_type": "code",
   "execution_count": 2,
   "id": "1061f2f4-56cc-4bf3-813d-69115c0bc895",
   "metadata": {},
   "outputs": [],
   "source": [
    "import sys  \n",
    "sys.path.insert(0, './Functions/')\n",
    "\n",
    "import Window"
   ]
  },
  {
   "cell_type": "code",
   "execution_count": 4,
   "id": "fe64c613-5302-4fdb-b45e-3fd1226f6ab0",
   "metadata": {},
   "outputs": [],
   "source": [
    "def spew_tuples(obj, seq_pourc = 0.05):\n",
    "    '''\n",
    "    Takes the window index and returns the range split by a % for instance, 10% would return a dataset split in 10 parts...s\n",
    "    '''\n",
    "    total_slices = len(obj.window_index)\n",
    "    slice_width = int(total_slices*seq_pourc)\n",
    "    starting_range = range(0,total_slices,slice_width)\n",
    "    if (list(starting_range)[-1])==(total_slices-1):\n",
    "        return Window.window(starting_range, 2)\n",
    "    else:\n",
    "        return Window.window(chain(starting_range, [total_slices]), 2)\n",
    "    \n",
    "    return starting_range\n",
    "\n",
    "def correct_overlapping_index(tuple_array, lag = -5):\n",
    "    '''\n",
    "    Creates non overlapping values from tuple arrays and corrects the first tuple\n",
    "    '''\n",
    "    return [tuple_array[0]] + [(x[0]+lag,x[1]) for x in tuple_array[1:]]   \n",
    "\n",
    "def draw_graph_dot(obj):\n",
    "    '''\n",
    "    Draws the dot directed graph using pygraphviz and network x\n",
    "    '''\n",
    "    pos = nx.nx_pydot.graphviz_layout(obj.graph, prog='dot')\n",
    "    figure(figsize=(24, 18), dpi=80)\n",
    "    nx.draw_networkx_nodes(obj.graph, pos, node_size = 8)\n",
    "    nx.draw_networkx_edges(obj.graph, pos, arrows=True, width=0.2)\n",
    "    plt.show()\n",
    "\n",
    "def flatten_once(d):\n",
    "    out = {}\n",
    "    for key, val in d.items():\n",
    "        out.update(val)\n",
    "    return out\n",
    "\n",
    "def put_in_list(d):\n",
    "    out = []\n",
    "    for key, val in d.items():\n",
    "        out.append(val)\n",
    "    return out"
   ]
  }
 ],
 "metadata": {
  "environment": {
   "kernel": "python3",
   "name": "common-cpu.m95",
   "type": "gcloud",
   "uri": "gcr.io/deeplearning-platform-release/base-cpu:m95"
  },
  "kernelspec": {
   "display_name": "Python 3 (ipykernel)",
   "language": "python",
   "name": "python3"
  },
  "language_info": {
   "codemirror_mode": {
    "name": "ipython",
    "version": 3
   },
   "file_extension": ".py",
   "mimetype": "text/x-python",
   "name": "python",
   "nbconvert_exporter": "python",
   "pygments_lexer": "ipython3",
   "version": "3.7.12"
  }
 },
 "nbformat": 4,
 "nbformat_minor": 5
}
