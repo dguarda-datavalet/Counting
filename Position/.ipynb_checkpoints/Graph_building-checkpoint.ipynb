{
 "cells": [
  {
   "cell_type": "code",
   "execution_count": 1,
   "id": "94400580-cb05-4a98-ada2-7239951380dc",
   "metadata": {},
   "outputs": [],
   "source": [
    "import pandas as pd\n",
    "import numpy as np\n",
    "import networkx as nx\n",
    "from itertools import chain\n",
    "from tqdm import tqdm\n",
    "import matplotlib.pyplot as plt\n",
    "from matplotlib.pyplot import figure\n",
    "import pydot\n",
    "import pygraphviz"
   ]
  },
  {
   "cell_type": "code",
   "execution_count": 2,
   "id": "1061f2f4-56cc-4bf3-813d-69115c0bc895",
   "metadata": {},
   "outputs": [],
   "source": [
    "import sys  \n",
    "sys.path.insert(0, './Functions/')\n",
    "\n",
    "import Window"
   ]
  },
  {
   "cell_type": "code",
   "execution_count": 4,
   "id": "fe64c613-5302-4fdb-b45e-3fd1226f6ab0",
   "metadata": {},
   "outputs": [],
   "source": [
    "def spew_tuples(obj, seq_pourc = 0.05):\n",
    "    '''\n",
    "    Takes the window index and returns the range split by a % for instance, 10% would return a dataset split in 10 parts...s\n",
    "    '''\n",
    "    total_slices = len(obj.window_index)\n",
    "    slice_width = int(total_slices*seq_pourc)\n",
    "    starting_range = range(0,total_slices,slice_width)\n",
    "    if (list(starting_range)[-1])==(total_slices-1):\n",
    "        return Window.window(starting_range, 2)\n",
    "    else:\n",
    "        return Window.window(chain(starting_range, [total_slices]), 2)\n",
    "    \n",
    "    return starting_range\n",
    "\n",
    "def correct_overlapping_index(tuple_array, lag = -5):\n",
    "    '''\n",
    "    Creates non overlapping values from tuple arrays and corrects the first tuple\n",
    "    '''\n",
    "    return [tuple_array[0]] + [(x[0]+lag,x[1]) for x in tuple_array[1:]]   \n",
    "\n",
    "def draw_graph_dot(obj):\n",
    "    '''\n",
    "    Draws the dot directed graph using pygraphviz and network x\n",
    "    '''\n",
    "    pos = nx.nx_pydot.graphviz_layout(obj.graph, prog='dot')\n",
    "    figure(figsize=(24, 18), dpi=80)\n",
    "    nx.draw_networkx_nodes(obj.graph, pos, node_size = 8)\n",
    "    nx.draw_networkx_edges(obj.graph, pos, arrows=True, width=0.2)\n",
    "    plt.show()\n",
    "\n",
    "def flatten_once(d):\n",
    "    out = {}\n",
    "    for key, val in d.items():\n",
    "        out.update(val)\n",
    "    return out\n",
    "\n",
    "def put_in_list(d):\n",
    "    out = []\n",
    "    for key, val in d.items():\n",
    "        out.append(val)\n",
    "    return out"
   ]
  },
  {
   "cell_type": "code",
   "execution_count": 5,
   "id": "c7dc77bc-1487-4ab8-a2ff-238efca850dd",
   "metadata": {},
   "outputs": [
    {
     "name": "stderr",
     "output_type": "stream",
     "text": [
      "Query complete after 0.00s: 100%|██████████| 1/1 [00:00<00:00, 823.22query/s] \n",
      "Downloading: 100%|██████████| 82228/82228 [00:00<00:00, 150798.94rows/s]\n"
     ]
    }
   ],
   "source": [
    "%%bigquery df_onroute_position_window\n",
    "Select *\n",
    "from data-prod-270222.datascience.position_raw"
   ]
  },
  {
   "cell_type": "code",
   "execution_count": 6,
   "id": "02bbd23d-1e2c-4e99-881f-7ec2e41335f0",
   "metadata": {},
   "outputs": [
    {
     "name": "stdout",
     "output_type": "stream",
     "text": [
      "New empty graph\n",
      "Length of dataset: 82228\n"
     ]
    }
   ],
   "source": [
    "mygraph = Position_graph(df_onroute_position_window)"
   ]
  },
  {
   "cell_type": "code",
   "execution_count": 7,
   "id": "00ce99f2-24f5-4dbd-a0a7-03bfd3e3e4fc",
   "metadata": {},
   "outputs": [],
   "source": [
    "mygraph.window_kwargs = {\n",
    "            'min_window_len':3,\n",
    "            'min_value_len':5,\n",
    "        }"
   ]
  },
  {
   "cell_type": "code",
   "execution_count": 8,
   "id": "65eb399a-a712-4bca-aa7f-733fdfcc84f7",
   "metadata": {},
   "outputs": [],
   "source": [
    "mygraph.compute_window()"
   ]
  },
  {
   "cell_type": "code",
   "execution_count": 45,
   "id": "6cef285d-85a5-45b6-bd21-7e34585a7e2a",
   "metadata": {},
   "outputs": [],
   "source": [
    "store_me = list(spew_tuples(mygraph, seq_pourc = 0.1))\n",
    "slices_list = correct_overlapping_index(store_me)"
   ]
  },
  {
   "cell_type": "code",
   "execution_count": 47,
   "id": "18b0989b-4d40-43f6-933b-3aee846b6084",
   "metadata": {
    "scrolled": true,
    "tags": []
   },
   "outputs": [
    {
     "name": "stderr",
     "output_type": "stream",
     "text": [
      "Exception ignored in: <function tqdm.__del__ at 0x7ff8cea15d40>\n",
      "Traceback (most recent call last):\n",
      "  File \"/opt/conda/lib/python3.7/site-packages/tqdm/std.py\", line 1162, in __del__\n",
      "    self.close()\n",
      "  File \"/opt/conda/lib/python3.7/site-packages/tqdm/std.py\", line 1291, in close\n",
      "    if self.last_print_t < self.start_t + self.delay:\n",
      "AttributeError: 'tqdm' object has no attribute 'last_print_t'\n"
     ]
    },
    {
     "name": "stdout",
     "output_type": "stream",
     "text": [
      "Slice from 0 to 102 computed for distance stored under the active_distance_slice attribute\n"
     ]
    },
    {
     "name": "stderr",
     "output_type": "stream",
     "text": [
      "100%|██████████| 102/102 [00:33<00:00,  3.05it/s]\n"
     ]
    }
   ],
   "source": [
    "mygraph.compute_distance_in_windows(start_slice=slices_list[0][0], stop_slice=slices_list[0][1])\n",
    "\n",
    "iter_list = range(slices_list[0][1]-slices_list[0][0])\n",
    "graph_dicts = {}\n",
    "\n",
    "for ind in tqdm(iter_list):\n",
    "    graph_dicts.update(mygraph.compute_full_window_distance(n_window=4,starting_slice=ind))\n",
    "\n",
    "mygraph.graph_dict = flatten_once(graph_dicts)\n",
    "#removing the nesting left from putting dictionnaries in list    \n",
    "unnested_dict = list(chain.from_iterable(put_in_list(mygraph.graph_dict)))\n",
    "directed_graph_df = pd.DataFrame.from_dict(unnested_dict)\n",
    "directed_graph_df['distance'] = directed_graph_df['distance'].apply(lambda x: x[0])\n",
    "#storing the result in the graph attribute\n",
    "mygraph.graph = nx.from_pandas_edgelist(directed_graph_df,'source_device_mac','device_mac', edge_attr='distance')"
   ]
  },
  {
   "cell_type": "code",
   "execution_count": null,
   "id": "34380032-6264-47c9-9467-4764655f5a86",
   "metadata": {},
   "outputs": [],
   "source": []
  }
 ],
 "metadata": {
  "environment": {
   "kernel": "python3",
   "name": "common-cpu.m95",
   "type": "gcloud",
   "uri": "gcr.io/deeplearning-platform-release/base-cpu:m95"
  },
  "kernelspec": {
   "display_name": "Python 3 (ipykernel)",
   "language": "python",
   "name": "python3"
  },
  "language_info": {
   "codemirror_mode": {
    "name": "ipython",
    "version": 3
   },
   "file_extension": ".py",
   "mimetype": "text/x-python",
   "name": "python",
   "nbconvert_exporter": "python",
   "pygments_lexer": "ipython3",
   "version": "3.7.12"
  }
 },
 "nbformat": 4,
 "nbformat_minor": 5
}
