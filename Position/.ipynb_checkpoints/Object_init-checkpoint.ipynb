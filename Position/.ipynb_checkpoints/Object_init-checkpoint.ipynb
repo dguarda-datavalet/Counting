{
 "cells": [
  {
   "cell_type": "markdown",
   "id": "415d6ca4-59bb-4e1b-a407-7c5d7ed17028",
   "metadata": {},
   "source": [
    "### Object initiation\n",
    "The object below will be initiated with all the attributes and functions needed to store graphs  \n",
    "Based on: https://datavalet.atlassian.net/wiki/spaces/PM/pages/1626308609/Counting+with+position"
   ]
  },
  {
   "cell_type": "markdown",
   "id": "bb55099f-b601-40cf-871e-b9710c6c3e00",
   "metadata": {},
   "source": [
    "### Loading functions\n",
    "- Loading the window function\n",
    "- Loading the distance computing logic"
   ]
  },
  {
   "cell_type": "code",
   "execution_count": 50,
   "id": "8a7092b6-d77a-44f3-8ff4-d427eb981b99",
   "metadata": {},
   "outputs": [],
   "source": [
    "import networkx as nx\n",
    "import math\n",
    "import pandas as pd\n",
    "import numpy as np\n",
    "import itertools\n",
    "from itertools import chain\n",
    "from tqdm import tqdm\n",
    "\n",
    "import sys  \n",
    "sys.path.insert(0, './Functions/')\n",
    "\n",
    "import Window\n",
    "import Distance\n",
    "import Graph\n",
    "import Subgraph\n",
    "\n",
    "def distance_function(fspl, frequency):\n",
    "    '''\n",
    "    Returns a distance in meter from the parameters:\n",
    "    fspl: basically the signal strength observed in absolute value\n",
    "    frequency: the frequency in ghz\n",
    "    '''\n",
    "    return 10**((fspl-(20*math.log(frequency, 10))-32.45)/20)\n",
    "\n",
    "class Position_graph:\n",
    "    def __new__(cls, *args, **kwargs):\n",
    "        print(f\"New empty graph\")\n",
    "        return super().__new__(cls)\n",
    "\n",
    "    def __init__(self, dataset, sorting_columns = ['Timestamp','device_mac','ap_mac']):\n",
    "        self.dataset = dataset.sort_values(sorting_columns).reset_index(drop=True)\n",
    "        print(f\"Length of dataset: {dataset.shape[0]}\")\n",
    "        self.walking_param = 0.85\n",
    "        self.distance_formula = distance_function\n",
    "        self.channel_table = pd.read_csv(f'channel.csv')\n",
    "        #Initiating complex structures\n",
    "        \n",
    "        self.window_kwargs = {\n",
    "            'min_window_len':3,\n",
    "            'min_value_len':1,\n",
    "        }\n",
    "        \n",
    "        self.distances = ''\n",
    "        self.active_distance_slice = ''\n",
    "        self.window_index = ''\n",
    "        self.graph_dict = {}\n",
    "        self.graph = 'Please initiate the graph using the function generate_graph_structure()'\n",
    "        self.subgraph = 'Please initiate the graph using the function generate_subgraphs()'\n",
    "        self.topological_order = 'Please initiate the graph using the function generate_topological_order()'\n",
    "        \n",
    "        \n",
    "    def compute_window(self, window_size=1800, window_frequency=900):\n",
    "        '''\n",
    "        Calling the window function passing the kwargs from the object\n",
    "        '''\n",
    "        dummydataset = pd.DataFrame.copy(self.dataset, deep= True)\n",
    "        dummydataset['signal_strength'] = dummydataset[['ap_mac','signal_strength', 'channel']].values.tolist()\n",
    "        self.window_index = Window.generate_window_dict(dummydataset, 'Timestamp', window_size=1800, window_frequency=900, **self.window_kwargs)\n",
    "    \n",
    "    def compute_distance_in_windows(self, start_slice=0, stop_slice=100):\n",
    "        '''\n",
    "        From the window structure we compute a slice of distances (based on n windows) returns the active_distance_slice structure having the   \n",
    "        distances computed for each random observations\n",
    "        '''\n",
    "        dummydataset = pd.DataFrame.copy(self.dataset, deep= True)\n",
    "        dummydataset['signal_strength'] = dummydataset[['ap_mac','signal_strength', 'channel']].values.tolist()\n",
    "        \n",
    "        if self.window_index == '':\n",
    "            self.window_index = Window.generate_window_dict(dummydataset, 'Timestamp', window_size=1800, window_frequency=900, **self.window_kwargs)\n",
    "    \n",
    "        sub_window_index = dict(itertools.islice(self.window_index.items(), start_slice, stop_slice))\n",
    "        df_list = {}\n",
    "\n",
    "        for key, value in sub_window_index.items():\n",
    "            df_list[key] = dummydataset[value[0]:value[1]].groupby(['device_mac'])['signal_strength'].apply(lambda x: list(np.unique(x))).apply(list).reset_index()\n",
    "        \n",
    "        #computing the distance by observation and by ap\n",
    "        final_dict = dict((k, Distance.transform_dict_entry(v, 'signal_strength', 'distance_by_ap', Distance.cycle_and_apply)) for k,v in df_list.items())  \n",
    "        #exploding the array produced into a distance column and coresponding ap_name column and the numbers of ap encountered\n",
    "        final_dict = dict((k, Distance.explode_outer(v, 'distance_by_ap', ['distance','ap_name','number_ap'])) for k,v in final_dict.items())\n",
    "        #cleaning the resulting array\n",
    "        final_dict = dict((k, v.drop(['signal_strength', 'distance_by_ap'], axis=1)) for k,v in final_dict.items())\n",
    "        #replacing the device_mac by a true random uuid in order to avoid breaking the next algorithms\n",
    "        final_dict = dict((k, Distance.transform_dict_entry(v, 'device_mac', 'device_mac', Distance.generate_uuid)) for k,v in final_dict.items()) \n",
    "        self.active_distance_slice = final_dict\n",
    "        print(f'Slice from {start_slice} to {stop_slice} computed for distance stored under the active_distance_slice attribute')\n",
    "    \n",
    "    def compute_distance_1_to_n(self, n_window=5, n_starting_index = 0, starting_slice = 0):\n",
    "        '''\n",
    "        By index, in a starting slice connect to the next n windows and return the dictionnaries of tuple of source to destination and edge values\n",
    "        '''\n",
    "        if self.active_distance_slice == '':\n",
    "            raise Exception('Please compute compute_distance_in_windows before this function!')\n",
    "        #storing the keys only\n",
    "        dict_keys = list(self.active_distance_slice.keys())\n",
    "        first_item = Distance.fetch_one_item(self.active_distance_slice, dict_keys[starting_slice], n_starting_index)\n",
    "        kwargs = {\n",
    "            'discriminant_walking' : self.walking_param,\n",
    "            'time_window_length' : dict_keys[0][1]-dict_keys[0][0],\n",
    "            'master_dict' : self.active_distance_slice,\n",
    "            'item' : first_item\n",
    "        }\n",
    "        dicts =  Distance.compute_n_windows(dict_keys[starting_slice+1:starting_slice+1+n_window], **kwargs)\n",
    "        return dicts\n",
    "    \n",
    "    def compute_full_window_distance(self, n_window = 5, starting_slice = 0):\n",
    "        '''\n",
    "        Compute the a complete slice and return the dictionnaries of tuples\n",
    "        '''\n",
    "        dict_list_graph_node = {}\n",
    "        dict_keys = list(self.active_distance_slice.keys())\n",
    "        number_of_nodes = len(self.active_distance_slice[dict_keys[starting_slice]])\n",
    "        for i in range(0,number_of_nodes):\n",
    "            obs_graph_struct = self.compute_distance_1_to_n(n_starting_index = i, n_window = n_window, starting_slice = starting_slice)\n",
    "            if len(obs_graph_struct)>0:\n",
    "                dict_list_graph_node[f'{dict_keys[starting_slice]}_{i}'] = obs_graph_struct\n",
    "        return dict_list_graph_node\n",
    "    \n",
    "    def compute_graph(self, seq_pourc = 0.1, n_windows = 4, window_index = 0):\n",
    "        '''\n",
    "        Computing a graph for a percentage of the data and sotres it in the object under the attribute obj.graph\n",
    "        '''\n",
    "        store_me = list(Graph.spew_tuples(self, seq_pourc=seq_pourc))\n",
    "        slices_list = Graph.correct_overlapping_index(store_me)\n",
    "        \n",
    "        self.compute_distance_in_windows(start_slice=slices_list[window_index][0], stop_slice=slices_list[window_index][1])\n",
    "\n",
    "        iter_list = range(slices_list[window_index][1]-slices_list[window_index][0])\n",
    "        graph_dicts = {}\n",
    "\n",
    "        for ind in tqdm(iter_list):\n",
    "            graph_dicts.update(self.compute_full_window_distance(n_window=n_windows,starting_slice=ind))\n",
    "\n",
    "        self.graph_dict = Graph.flatten_once(graph_dicts)\n",
    "        #removing the nesting left from putting dictionnaries in list    \n",
    "        unnested_dict = list(chain.from_iterable(Graph.put_in_list(self.graph_dict)))\n",
    "        directed_graph_df = pd.DataFrame.from_dict(unnested_dict)\n",
    "        directed_graph_df['distance'] = directed_graph_df['distance'].apply(lambda x: x[0])\n",
    "        #storing the result in the graph attribute\n",
    "        self.graph = nx.from_pandas_edgelist(directed_graph_df,'source_device_mac','device_mac', edge_attr='distance', create_using=nx.DiGraph())\n",
    "    \n",
    "    def compute_subgraphs(self, remaining_nodes = 0.2, total_iterations = 10, pourcentage_complete_paths = 0.25):\n",
    "        starting_nodes = len(self.graph.nodes)\n",
    "        final_nodes = len(self.graph.nodes)*(1-remaining_nodes)\n",
    "\n",
    "        devices = []\n",
    "        i = 0\n",
    "        while(len(self.graph.nodes)>final_nodes and i<total_iterations):\n",
    "            i = i + 1\n",
    "            devices.append(Subgraph.remove_devices_from_graph(self.graph, pourc=pourcentage_complete_paths))\n",
    "\n",
    "        devices = list(chain.from_iterable(devices))\n",
    "        self.subgraph = devices\n",
    "        print(f'Added {len(devices)} devices subgraphs under the subgraph attribute')\n",
    "        \n",
    "    def generate_graph_structure(self):\n",
    "        return None\n",
    "    \n",
    "    def generate_topological_order(self):\n",
    "        return None\n",
    "    \n",
    "    def generate_subgraphs(self):\n",
    "        return None\n",
    "        \n",
    "    def __repr__(self) -> str:\n",
    "        return f\"{type(self).__name__} is a graph structure with the following attributes:\""
   ]
  },
  {
   "cell_type": "code",
   "execution_count": 34,
   "id": "747e4109-32ad-497e-9eb3-31b82d3b826f",
   "metadata": {},
   "outputs": [
    {
     "name": "stderr",
     "output_type": "stream",
     "text": [
      "Query complete after 0.00s: 100%|██████████| 1/1 [00:00<00:00, 795.58query/s] \n",
      "Downloading: 100%|██████████| 82228/82228 [00:00<00:00, 160402.85rows/s]\n"
     ]
    }
   ],
   "source": [
    "%%bigquery df_onroute_position_window\n",
    "Select *\n",
    "from data-prod-270222.datascience.position_raw"
   ]
  },
  {
   "cell_type": "code",
   "execution_count": 39,
   "id": "6ab972ed-02ab-4d41-a57a-d9984f8b98d4",
   "metadata": {},
   "outputs": [
    {
     "name": "stdout",
     "output_type": "stream",
     "text": [
      "New empty graph\n",
      "Length of dataset: 82228\n"
     ]
    }
   ],
   "source": [
    "mygraph = Position_graph(df_onroute_position_window)\n",
    "mygraph.window_kwargs = {\n",
    "            'min_window_len':13,\n",
    "            'min_value_len':5,\n",
    "        }\n",
    "mygraph.compute_window()\n",
    "mygraph.compute_graph(seq_pourc = 0.1)"
   ]
  },
  {
   "cell_type": "code",
   "execution_count": 48,
   "id": "b2b09dbd-6ca3-4063-9931-6e225f3970e3",
   "metadata": {},
   "outputs": [
    {
     "ename": "AttributeError",
     "evalue": "'Graph' object has no attribute 'in_degree'",
     "output_type": "error",
     "traceback": [
      "\u001b[0;31m---------------------------------------------------------------------------\u001b[0m",
      "\u001b[0;31mAttributeError\u001b[0m                            Traceback (most recent call last)",
      "\u001b[0;32m/tmp/ipykernel_12851/1997528593.py\u001b[0m in \u001b[0;36m<module>\u001b[0;34m\u001b[0m\n\u001b[0;32m----> 1\u001b[0;31m \u001b[0mmygraph\u001b[0m\u001b[0;34m.\u001b[0m\u001b[0mcompute_subgraphs\u001b[0m\u001b[0;34m(\u001b[0m\u001b[0mpourcentage_complete_paths\u001b[0m \u001b[0;34m=\u001b[0m \u001b[0;36m1\u001b[0m\u001b[0;34m)\u001b[0m\u001b[0;34m\u001b[0m\u001b[0;34m\u001b[0m\u001b[0m\n\u001b[0m",
      "\u001b[0;32m/tmp/ipykernel_12851/2651206298.py\u001b[0m in \u001b[0;36mcompute_subgraphs\u001b[0;34m(self, remaining_nodes, total_iterations, pourcentage_complete_paths)\u001b[0m\n\u001b[1;32m    148\u001b[0m         \u001b[0;32mwhile\u001b[0m\u001b[0;34m(\u001b[0m\u001b[0mlen\u001b[0m\u001b[0;34m(\u001b[0m\u001b[0mself\u001b[0m\u001b[0;34m.\u001b[0m\u001b[0mgraph\u001b[0m\u001b[0;34m.\u001b[0m\u001b[0mnodes\u001b[0m\u001b[0;34m)\u001b[0m\u001b[0;34m>\u001b[0m\u001b[0mfinal_nodes\u001b[0m \u001b[0;32mand\u001b[0m \u001b[0mi\u001b[0m\u001b[0;34m<\u001b[0m\u001b[0mtotal_iterations\u001b[0m\u001b[0;34m)\u001b[0m\u001b[0;34m:\u001b[0m\u001b[0;34m\u001b[0m\u001b[0;34m\u001b[0m\u001b[0m\n\u001b[1;32m    149\u001b[0m             \u001b[0mi\u001b[0m \u001b[0;34m=\u001b[0m \u001b[0mi\u001b[0m \u001b[0;34m+\u001b[0m \u001b[0;36m1\u001b[0m\u001b[0;34m\u001b[0m\u001b[0;34m\u001b[0m\u001b[0m\n\u001b[0;32m--> 150\u001b[0;31m             \u001b[0mdevices\u001b[0m\u001b[0;34m.\u001b[0m\u001b[0mappend\u001b[0m\u001b[0;34m(\u001b[0m\u001b[0mSubgraph\u001b[0m\u001b[0;34m.\u001b[0m\u001b[0mremove_devices_from_graph\u001b[0m\u001b[0;34m(\u001b[0m\u001b[0mself\u001b[0m\u001b[0;34m.\u001b[0m\u001b[0mgraph\u001b[0m\u001b[0;34m,\u001b[0m \u001b[0mpourc\u001b[0m\u001b[0;34m=\u001b[0m\u001b[0mpourcentage_complete_paths\u001b[0m\u001b[0;34m)\u001b[0m\u001b[0;34m)\u001b[0m\u001b[0;34m\u001b[0m\u001b[0;34m\u001b[0m\u001b[0m\n\u001b[0m\u001b[1;32m    151\u001b[0m \u001b[0;34m\u001b[0m\u001b[0m\n\u001b[1;32m    152\u001b[0m         \u001b[0mdevices\u001b[0m \u001b[0;34m=\u001b[0m \u001b[0mlist\u001b[0m\u001b[0;34m(\u001b[0m\u001b[0mchain\u001b[0m\u001b[0;34m.\u001b[0m\u001b[0mfrom_iterable\u001b[0m\u001b[0;34m(\u001b[0m\u001b[0mdevices\u001b[0m\u001b[0;34m)\u001b[0m\u001b[0;34m)\u001b[0m\u001b[0;34m\u001b[0m\u001b[0;34m\u001b[0m\u001b[0m\n",
      "\u001b[0;32m~/Projects/Counting/Position/Functions/Subgraph.py\u001b[0m in \u001b[0;36mremove_devices_from_graph\u001b[0;34m(graph, pourc)\u001b[0m\n\u001b[1;32m     99\u001b[0m     '''\n\u001b[1;32m    100\u001b[0m     \u001b[0mdevices\u001b[0m \u001b[0;34m=\u001b[0m \u001b[0;34m[\u001b[0m\u001b[0;34m]\u001b[0m\u001b[0;34m\u001b[0m\u001b[0;34m\u001b[0m\u001b[0m\n\u001b[0;32m--> 101\u001b[0;31m     \u001b[0mroots\u001b[0m \u001b[0;34m=\u001b[0m \u001b[0;34m[\u001b[0m\u001b[0mv\u001b[0m \u001b[0;32mfor\u001b[0m \u001b[0mv\u001b[0m\u001b[0;34m,\u001b[0m \u001b[0md\u001b[0m \u001b[0;32min\u001b[0m \u001b[0mgraph\u001b[0m\u001b[0;34m.\u001b[0m\u001b[0min_degree\u001b[0m\u001b[0;34m(\u001b[0m\u001b[0;34m)\u001b[0m \u001b[0;32mif\u001b[0m \u001b[0md\u001b[0m \u001b[0;34m==\u001b[0m \u001b[0;36m0\u001b[0m\u001b[0;34m]\u001b[0m\u001b[0;34m\u001b[0m\u001b[0;34m\u001b[0m\u001b[0m\n\u001b[0m\u001b[1;32m    102\u001b[0m     \u001b[0mleaves\u001b[0m \u001b[0;34m=\u001b[0m \u001b[0;34m[\u001b[0m\u001b[0mv\u001b[0m \u001b[0;32mfor\u001b[0m \u001b[0mv\u001b[0m\u001b[0;34m,\u001b[0m \u001b[0md\u001b[0m \u001b[0;32min\u001b[0m \u001b[0mgraph\u001b[0m\u001b[0;34m.\u001b[0m\u001b[0mout_degree\u001b[0m\u001b[0;34m(\u001b[0m\u001b[0;34m)\u001b[0m \u001b[0;32mif\u001b[0m \u001b[0md\u001b[0m \u001b[0;34m==\u001b[0m \u001b[0;36m0\u001b[0m\u001b[0;34m]\u001b[0m\u001b[0;34m\u001b[0m\u001b[0;34m\u001b[0m\u001b[0m\n\u001b[1;32m    103\u001b[0m \u001b[0;34m\u001b[0m\u001b[0m\n",
      "\u001b[0;31mAttributeError\u001b[0m: 'Graph' object has no attribute 'in_degree'"
     ]
    }
   ],
   "source": [
    "mygraph.compute_subgraphs(pourcentage_complete_paths = 1)"
   ]
  },
  {
   "cell_type": "code",
   "execution_count": 45,
   "id": "ff972402-04fd-4043-a582-98710c391d48",
   "metadata": {},
   "outputs": [
    {
     "ename": "AttributeError",
     "evalue": "'Graph' object has no attribute 'in_degree'",
     "output_type": "error",
     "traceback": [
      "\u001b[0;31m---------------------------------------------------------------------------\u001b[0m",
      "\u001b[0;31mAttributeError\u001b[0m                            Traceback (most recent call last)",
      "\u001b[0;32m/tmp/ipykernel_12851/1988815947.py\u001b[0m in \u001b[0;36m<module>\u001b[0;34m\u001b[0m\n\u001b[0;32m----> 1\u001b[0;31m \u001b[0mroots\u001b[0m \u001b[0;34m=\u001b[0m \u001b[0;34m[\u001b[0m\u001b[0mv\u001b[0m \u001b[0;32mfor\u001b[0m \u001b[0mv\u001b[0m\u001b[0;34m,\u001b[0m \u001b[0md\u001b[0m \u001b[0;32min\u001b[0m \u001b[0mmygraph\u001b[0m\u001b[0;34m.\u001b[0m\u001b[0mgraph\u001b[0m\u001b[0;34m.\u001b[0m\u001b[0min_degree\u001b[0m\u001b[0;34m(\u001b[0m\u001b[0;34m)\u001b[0m \u001b[0;32mif\u001b[0m \u001b[0md\u001b[0m \u001b[0;34m==\u001b[0m \u001b[0;36m0\u001b[0m\u001b[0;34m]\u001b[0m\u001b[0;34m\u001b[0m\u001b[0;34m\u001b[0m\u001b[0m\n\u001b[0m",
      "\u001b[0;31mAttributeError\u001b[0m: 'Graph' object has no attribute 'in_degree'"
     ]
    }
   ],
   "source": [
    "roots = [v for v, d in mygraph.graph.in_degree() if d == 0]"
   ]
  },
  {
   "cell_type": "code",
   "execution_count": null,
   "id": "86d39f2e-1e1f-4f4a-9aa9-4bb2a0b4e147",
   "metadata": {},
   "outputs": [],
   "source": []
  }
 ],
 "metadata": {
  "environment": {
   "kernel": "python3",
   "name": "common-cpu.m95",
   "type": "gcloud",
   "uri": "gcr.io/deeplearning-platform-release/base-cpu:m95"
  },
  "kernelspec": {
   "display_name": "Python 3 (ipykernel)",
   "language": "python",
   "name": "python3"
  },
  "language_info": {
   "codemirror_mode": {
    "name": "ipython",
    "version": 3
   },
   "file_extension": ".py",
   "mimetype": "text/x-python",
   "name": "python",
   "nbconvert_exporter": "python",
   "pygments_lexer": "ipython3",
   "version": "3.7.12"
  }
 },
 "nbformat": 4,
 "nbformat_minor": 5
}
