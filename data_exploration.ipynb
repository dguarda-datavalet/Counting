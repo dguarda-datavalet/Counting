{
 "cells": [
  {
   "cell_type": "code",
   "execution_count": 316,
   "id": "84de34eb-c428-44fc-a026-be9ab5a0644f",
   "metadata": {},
   "outputs": [],
   "source": [
    "import pandas as pd\n",
    "import numpy as np"
   ]
  },
  {
   "cell_type": "code",
   "execution_count": 303,
   "id": "ae5dfe74-d0a7-4405-948d-ce0c5f1567d9",
   "metadata": {},
   "outputs": [
    {
     "name": "stderr",
     "output_type": "stream",
     "text": [
      "Query complete after 0.00s: 100%|██████████| 7/7 [00:00<00:00, 3337.90query/s]                        \n",
      "Downloading: 100%|██████████| 2305/2305 [00:00<00:00, 3290.28rows/s]\n"
     ]
    }
   ],
   "source": [
    "%%bigquery df_farmboy_visit_raw\n",
    "SELECT scout.device_mac, scout.ap_oem, scout.Timestamp_ms, scout.Timestamp, datetime(timestamp_seconds(scout.timestamp)) as local_time,\n",
    "scout.signal_strength, scout.noise_floor, scout.channel, hard.brand_name, hard.market_segment, scout.ap_mac, hard.site_uuid, oui.*\n",
    "FROM  data-prod-270222.raw.rtls_scout_raw scout\n",
    "join meta.hardware_details as hard on utils.normalize_mac(scout.ap_mac) = utils.normalize_mac(hard.mac)\n",
    "join data-prod-270222.meta.oui as oui on SUBSTRING(scout.device_mac, 1, 6) like utils.normalize_mac(oui.oui)\n",
    "where scout.timestamp between 1637325900 and 1637329500\n",
    "and hard.site_uuid = '657b300b-db2e-f810-ffc6-e3a84b96192c'\n",
    "and companyName IN ('Apple, Inc', 'Google, Inc', 'Huawei Tech Co, Ltd', 'Intel Corp', \n",
    "                    'LG Electronics (Mobile Communications)', 'LG innotek', \n",
    "                    'Motorola Mobility Llc, a Lenovo Co', 'Samsung Electronics Co, Ltd',\n",
    "                    'Mobiwire Mobiles (Ningbo) Co, Ltd', 'Motorola (Wuhan) Mobility Tech Communication Co, Ltd',\n",
    "                     'Samsung Electro-Mechanics(Thailand)')\n",
    "order by scout.timestamp\n",
    "limit 100000"
   ]
  },
  {
   "cell_type": "code",
   "execution_count": 382,
   "id": "c28143d0-8a95-42ca-b75a-5670106f95bb",
   "metadata": {},
   "outputs": [],
   "source": [
    "df_farmboy_visit_raw['local_minutes'] = df_farmboy_visit_raw['local_time'].apply(lambda x: x.replace(second=0, microsecond=0))"
   ]
  },
  {
   "cell_type": "code",
   "execution_count": 383,
   "id": "8ae85567-2083-43a8-b774-a8474cc5aa81",
   "metadata": {},
   "outputs": [],
   "source": [
    "df_poc = df_farmboy_visit_raw.groupby(['local_minutes']).nunique()[['device_mac']]"
   ]
  },
  {
   "cell_type": "code",
   "execution_count": 384,
   "id": "87e2892b-ef01-4b3c-9a61-c69e1e1156cc",
   "metadata": {},
   "outputs": [],
   "source": [
    "df_poc = df_farmboy_visit_raw.groupby(['local_minutes']).device_mac.apply(np.array).to_frame()"
   ]
  },
  {
   "cell_type": "code",
   "execution_count": 385,
   "id": "3374768a-10f3-4304-848e-67fba8d544e2",
   "metadata": {},
   "outputs": [],
   "source": [
    "df_poc['device_mac'] = df_poc['device_mac'].apply(lambda x: np.unique(x))"
   ]
  },
  {
   "cell_type": "code",
   "execution_count": 386,
   "id": "a31830b6-153a-4cae-8675-03c85ada25d8",
   "metadata": {},
   "outputs": [],
   "source": [
    "df_poc['device_mac_shifted'] = df_poc['device_mac'].shift(1).fillna(0)"
   ]
  },
  {
   "cell_type": "code",
   "execution_count": 388,
   "id": "83846c39-238d-409a-8fb3-eb5479d15b71",
   "metadata": {},
   "outputs": [],
   "source": [
    "df_poc['in'] = df_poc.apply(lambda x: len(np.setdiff1d(x.device_mac, x.device_mac_shifted)), axis=1)\n",
    "df_poc['out'] = df_poc.apply(lambda x: len(np.setdiff1d(x.device_mac_shifted, x.device_mac)), axis=1)"
   ]
  },
  {
   "cell_type": "code",
   "execution_count": 389,
   "id": "0ae665cd-048f-47f2-8efe-55f63ce3ed3c",
   "metadata": {},
   "outputs": [],
   "source": [
    "df_poc['cumul'] = df_poc['device_mac'].apply(lambda x: len(x))"
   ]
  },
  {
   "cell_type": "code",
   "execution_count": 391,
   "id": "fa5dab95-8d1b-4fb3-afc9-ea1bfb861b10",
   "metadata": {},
   "outputs": [],
   "source": [
    "df_validation = pd.read_csv(f'validation_farmboi.csv')"
   ]
  },
  {
   "cell_type": "code",
   "execution_count": 420,
   "id": "37fe38c4-36ff-40a2-a459-50525222cad5",
   "metadata": {},
   "outputs": [
    {
     "data": {
      "text/plain": [
       "array([[1.        , 0.49968202],\n",
       "       [0.49968202, 1.        ]])"
      ]
     },
     "execution_count": 420,
     "metadata": {},
     "output_type": "execute_result"
    }
   ],
   "source": [
    "np.corrcoef(df_poc['cumul'].rolling(5, min_periods=1).mean().round()-df_poc['cumul'].mean(), df_validation['Cumul'][:-1]-df_validation['Cumul'].mean())"
   ]
  },
  {
   "cell_type": "code",
   "execution_count": 412,
   "id": "2d8a698b-8e97-4da9-942f-34181edde211",
   "metadata": {},
   "outputs": [
    {
     "data": {
      "text/plain": [
       "local_minutes\n",
       "2021-11-19 12:45:00     7.0\n",
       "2021-11-19 12:46:00     8.0\n",
       "2021-11-19 12:47:00     7.0\n",
       "2021-11-19 12:48:00     7.0\n",
       "2021-11-19 12:49:00     7.0\n",
       "2021-11-19 12:50:00     7.0\n",
       "2021-11-19 12:51:00     7.0\n",
       "2021-11-19 12:52:00     7.0\n",
       "2021-11-19 12:53:00     8.0\n",
       "2021-11-19 12:54:00     8.0\n",
       "2021-11-19 12:55:00     8.0\n",
       "2021-11-19 12:56:00     9.0\n",
       "2021-11-19 12:57:00     9.0\n",
       "2021-11-19 12:58:00     9.0\n",
       "2021-11-19 12:59:00    10.0\n",
       "2021-11-19 13:00:00    10.0\n",
       "2021-11-19 13:01:00    10.0\n",
       "2021-11-19 13:02:00     9.0\n",
       "2021-11-19 13:03:00     9.0\n",
       "2021-11-19 13:04:00     9.0\n",
       "2021-11-19 13:05:00     8.0\n",
       "2021-11-19 13:06:00     8.0\n",
       "2021-11-19 13:07:00     8.0\n",
       "2021-11-19 13:08:00     8.0\n",
       "2021-11-19 13:09:00     8.0\n",
       "2021-11-19 13:10:00     9.0\n",
       "2021-11-19 13:11:00     8.0\n",
       "2021-11-19 13:12:00     9.0\n",
       "2021-11-19 13:13:00     8.0\n",
       "2021-11-19 13:14:00     9.0\n",
       "2021-11-19 13:15:00     9.0\n",
       "2021-11-19 13:16:00     9.0\n",
       "2021-11-19 13:17:00     9.0\n",
       "2021-11-19 13:18:00     9.0\n",
       "2021-11-19 13:19:00     8.0\n",
       "2021-11-19 13:20:00     8.0\n",
       "2021-11-19 13:21:00     8.0\n",
       "2021-11-19 13:22:00     8.0\n",
       "2021-11-19 13:23:00     8.0\n",
       "2021-11-19 13:24:00     8.0\n",
       "2021-11-19 13:25:00     8.0\n",
       "2021-11-19 13:26:00     8.0\n",
       "2021-11-19 13:27:00     8.0\n",
       "2021-11-19 13:28:00     8.0\n",
       "2021-11-19 13:29:00     8.0\n",
       "2021-11-19 13:30:00     8.0\n",
       "2021-11-19 13:31:00     8.0\n",
       "2021-11-19 13:32:00     8.0\n",
       "2021-11-19 13:33:00     9.0\n",
       "2021-11-19 13:34:00     8.0\n",
       "2021-11-19 13:35:00     8.0\n",
       "2021-11-19 13:36:00     7.0\n",
       "2021-11-19 13:37:00     8.0\n",
       "2021-11-19 13:38:00     7.0\n",
       "2021-11-19 13:39:00     7.0\n",
       "2021-11-19 13:40:00     6.0\n",
       "2021-11-19 13:41:00     7.0\n",
       "2021-11-19 13:42:00     7.0\n",
       "2021-11-19 13:43:00     7.0\n",
       "2021-11-19 13:44:00     7.0\n",
       "Name: cumul, dtype: float64"
      ]
     },
     "execution_count": 412,
     "metadata": {},
     "output_type": "execute_result"
    }
   ],
   "source": [
    "df_poc['cumul'].rolling(5, min_periods=1).mean().round()"
   ]
  },
  {
   "cell_type": "code",
   "execution_count": null,
   "id": "fabd1416-a127-4133-adab-b8404df1c811",
   "metadata": {},
   "outputs": [],
   "source": []
  }
 ],
 "metadata": {
  "environment": {
   "kernel": "python3",
   "name": "common-cpu.m95",
   "type": "gcloud",
   "uri": "gcr.io/deeplearning-platform-release/base-cpu:m95"
  },
  "kernelspec": {
   "display_name": "Python 3 (ipykernel)",
   "language": "python",
   "name": "python3"
  },
  "language_info": {
   "codemirror_mode": {
    "name": "ipython",
    "version": 3
   },
   "file_extension": ".py",
   "mimetype": "text/x-python",
   "name": "python",
   "nbconvert_exporter": "python",
   "pygments_lexer": "ipython3",
   "version": "3.7.12"
  }
 },
 "nbformat": 4,
 "nbformat_minor": 5
}
