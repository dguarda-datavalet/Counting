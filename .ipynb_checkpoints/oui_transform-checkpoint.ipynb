{
 "cells": [
  {
   "cell_type": "code",
   "execution_count": 87,
   "id": "a421097c-cc9f-4d76-ba93-23843a6ce5d9",
   "metadata": {},
   "outputs": [],
   "source": [
    "#saving bigtable\n",
    "import pandas_gbq\n",
    "from datalab.context import Context\n",
    "import datalab.storage as storage\n",
    "import datalab.bigquery as bq\n",
    "from pandas import DataFrame\n",
    "import time"
   ]
  },
  {
   "cell_type": "code",
   "execution_count": 91,
   "id": "6f52baff-5357-42ed-a737-dafdd52dbcb2",
   "metadata": {},
   "outputs": [],
   "source": [
    "import re\n",
    "import pandas as pd\n",
    "\n",
    "d = pd.read_csv(\"oui_full.txt\", sep=\"\\t\", names=['X','companyName'])"
   ]
  },
  {
   "cell_type": "code",
   "execution_count": 92,
   "id": "ecaed2c5-cedc-493a-b147-17a6715db1a2",
   "metadata": {},
   "outputs": [
    {
     "data": {
      "text/html": [
       "<div>\n",
       "<style scoped>\n",
       "    .dataframe tbody tr th:only-of-type {\n",
       "        vertical-align: middle;\n",
       "    }\n",
       "\n",
       "    .dataframe tbody tr th {\n",
       "        vertical-align: top;\n",
       "    }\n",
       "\n",
       "    .dataframe thead th {\n",
       "        text-align: right;\n",
       "    }\n",
       "</style>\n",
       "<table border=\"1\" class=\"dataframe\">\n",
       "  <thead>\n",
       "    <tr style=\"text-align: right;\">\n",
       "      <th></th>\n",
       "      <th>X</th>\n",
       "      <th>companyName</th>\n",
       "    </tr>\n",
       "  </thead>\n",
       "  <tbody>\n",
       "    <tr>\n",
       "      <th>00-22-72   (hex)</th>\n",
       "      <td>NaN</td>\n",
       "      <td>American Micro-Fuel Device Corp.</td>\n",
       "    </tr>\n",
       "    <tr>\n",
       "      <th>002272     (base 16)</th>\n",
       "      <td>NaN</td>\n",
       "      <td>American Micro-Fuel Device Corp.</td>\n",
       "    </tr>\n",
       "    <tr>\n",
       "      <th>NaN</th>\n",
       "      <td>NaN</td>\n",
       "      <td>NaN</td>\n",
       "    </tr>\n",
       "    <tr>\n",
       "      <th>NaN</th>\n",
       "      <td>NaN</td>\n",
       "      <td>NaN</td>\n",
       "    </tr>\n",
       "    <tr>\n",
       "      <th>NaN</th>\n",
       "      <td>NaN</td>\n",
       "      <td>NaN</td>\n",
       "    </tr>\n",
       "    <tr>\n",
       "      <th>...</th>\n",
       "      <td>...</td>\n",
       "      <td>...</td>\n",
       "    </tr>\n",
       "    <tr>\n",
       "      <th>9C-0C-35   (hex)</th>\n",
       "      <td>NaN</td>\n",
       "      <td>Shenzhenshi Xinzhongxin Technology Co.Ltd</td>\n",
       "    </tr>\n",
       "    <tr>\n",
       "      <th>9C0C35     (base 16)</th>\n",
       "      <td>NaN</td>\n",
       "      <td>Shenzhenshi Xinzhongxin Technology Co.Ltd</td>\n",
       "    </tr>\n",
       "    <tr>\n",
       "      <th>NaN</th>\n",
       "      <td>NaN</td>\n",
       "      <td>NaN</td>\n",
       "    </tr>\n",
       "    <tr>\n",
       "      <th>NaN</th>\n",
       "      <td>NaN</td>\n",
       "      <td>NaN</td>\n",
       "    </tr>\n",
       "    <tr>\n",
       "      <th>NaN</th>\n",
       "      <td>NaN</td>\n",
       "      <td>NaN</td>\n",
       "    </tr>\n",
       "  </tbody>\n",
       "</table>\n",
       "<p>163319 rows × 2 columns</p>\n",
       "</div>"
      ],
      "text/plain": [
       "                       X                                companyName\n",
       "00-22-72   (hex)     NaN           American Micro-Fuel Device Corp.\n",
       "002272     (base 16) NaN           American Micro-Fuel Device Corp.\n",
       "NaN                  NaN                                        NaN\n",
       "NaN                  NaN                                        NaN\n",
       "NaN                  NaN                                        NaN\n",
       "...                   ..                                        ...\n",
       "9C-0C-35   (hex)     NaN  Shenzhenshi Xinzhongxin Technology Co.Ltd\n",
       "9C0C35     (base 16) NaN  Shenzhenshi Xinzhongxin Technology Co.Ltd\n",
       "NaN                  NaN                                        NaN\n",
       "NaN                  NaN                                        NaN\n",
       "NaN                  NaN                                        NaN\n",
       "\n",
       "[163319 rows x 2 columns]"
      ]
     },
     "execution_count": 94,
     "metadata": {},
     "output_type": "execute_result"
    }
   ],
   "source": [
    "d"
   ]
  },
  {
   "cell_type": "code",
   "execution_count": 96,
   "id": "82d11cf7-9a83-421b-b97a-9dc49d58df1e",
   "metadata": {
    "scrolled": true,
    "tags": []
   },
   "outputs": [],
   "source": [
    "d_cleaned = d[['companyName']].dropna()"
   ]
  },
  {
   "cell_type": "code",
   "execution_count": 97,
   "id": "505e0201-7cdd-48c2-ab96-c845121d2bb9",
   "metadata": {},
   "outputs": [
    {
     "name": "stderr",
     "output_type": "stream",
     "text": [
      "/opt/conda/lib/python3.7/site-packages/ipykernel_launcher.py:4: SettingWithCopyWarning: \n",
      "A value is trying to be set on a copy of a slice from a DataFrame.\n",
      "Try using .loc[row_indexer,col_indexer] = value instead\n",
      "\n",
      "See the caveats in the documentation: https://pandas.pydata.org/pandas-docs/stable/user_guide/indexing.html#returning-a-view-versus-a-copy\n",
      "  after removing the cwd from sys.path.\n"
     ]
    }
   ],
   "source": [
    "s = pd.Series(['hex' in i for i in d_cleaned.index], name='bools')\n",
    "\n",
    "d_reduced = d_cleaned[s.values]\n",
    "d_reduced['oui'] = d_reduced.index"
   ]
  },
  {
   "cell_type": "code",
   "execution_count": 98,
   "id": "a94e2daa-cdae-4a7a-8f27-d5b10f33cbb5",
   "metadata": {},
   "outputs": [
    {
     "name": "stderr",
     "output_type": "stream",
     "text": [
      "/opt/conda/lib/python3.7/site-packages/ipykernel_launcher.py:1: SettingWithCopyWarning: \n",
      "A value is trying to be set on a copy of a slice from a DataFrame.\n",
      "Try using .loc[row_indexer,col_indexer] = value instead\n",
      "\n",
      "See the caveats in the documentation: https://pandas.pydata.org/pandas-docs/stable/user_guide/indexing.html#returning-a-view-versus-a-copy\n",
      "  \"\"\"Entry point for launching an IPython kernel.\n"
     ]
    }
   ],
   "source": [
    "d_reduced['oui'] = d_reduced['oui'].apply(lambda x: x.split(' ', 1)[0])"
   ]
  },
  {
   "cell_type": "code",
   "execution_count": 99,
   "id": "9af2d546-0cb1-4488-9b8d-cb3207e77c53",
   "metadata": {},
   "outputs": [],
   "source": [
    "d_reduced.reset_index(inplace=True, drop = True)"
   ]
  },
  {
   "cell_type": "code",
   "execution_count": 102,
   "id": "65bff98f-8a85-4533-a4cd-9d0b5449c79b",
   "metadata": {},
   "outputs": [
    {
     "name": "stderr",
     "output_type": "stream",
     "text": [
      "100%|██████████| 1/1 [00:00<00:00, 9731.56it/s]"
     ]
    },
    {
     "name": "stdout",
     "output_type": "stream",
     "text": [
      "time alternative 1 3.9527270793914795\n"
     ]
    },
    {
     "name": "stderr",
     "output_type": "stream",
     "text": [
      "\n"
     ]
    }
   ],
   "source": [
    "start = time.time()\n",
    "d_reduced.to_gbq('data-prod-270222.derived.14102022_oui', \n",
    "                 Context.default().project_id,\n",
    "                 chunksize=10000, \n",
    "                 if_exists='replace'\n",
    "                 )\n",
    "end = time.time()\n",
    "print(\"time alternative 1 \" + str(end - start))"
   ]
  },
  {
   "cell_type": "code",
   "execution_count": 100,
   "id": "f9feda86-5b25-43bb-a100-3c07e8cd1168",
   "metadata": {},
   "outputs": [
    {
     "data": {
      "text/html": [
       "<div>\n",
       "<style scoped>\n",
       "    .dataframe tbody tr th:only-of-type {\n",
       "        vertical-align: middle;\n",
       "    }\n",
       "\n",
       "    .dataframe tbody tr th {\n",
       "        vertical-align: top;\n",
       "    }\n",
       "\n",
       "    .dataframe thead th {\n",
       "        text-align: right;\n",
       "    }\n",
       "</style>\n",
       "<table border=\"1\" class=\"dataframe\">\n",
       "  <thead>\n",
       "    <tr style=\"text-align: right;\">\n",
       "      <th></th>\n",
       "      <th>companyName</th>\n",
       "      <th>oui</th>\n",
       "    </tr>\n",
       "  </thead>\n",
       "  <tbody>\n",
       "    <tr>\n",
       "      <th>0</th>\n",
       "      <td>American Micro-Fuel Device Corp.</td>\n",
       "      <td>00-22-72</td>\n",
       "    </tr>\n",
       "    <tr>\n",
       "      <th>1</th>\n",
       "      <td>IGT</td>\n",
       "      <td>00-D0-EF</td>\n",
       "    </tr>\n",
       "    <tr>\n",
       "      <th>2</th>\n",
       "      <td>Rockwell Automation</td>\n",
       "      <td>08-61-95</td>\n",
       "    </tr>\n",
       "    <tr>\n",
       "      <th>3</th>\n",
       "      <td>Cisco Systems, Inc</td>\n",
       "      <td>F4-BD-9E</td>\n",
       "    </tr>\n",
       "    <tr>\n",
       "      <th>4</th>\n",
       "      <td>Realme Chongqing MobileTelecommunications Corp...</td>\n",
       "      <td>58-85-E9</td>\n",
       "    </tr>\n",
       "    <tr>\n",
       "      <th>...</th>\n",
       "      <td>...</td>\n",
       "      <td>...</td>\n",
       "    </tr>\n",
       "    <tr>\n",
       "      <th>32708</th>\n",
       "      <td>Shenzhen Ideaform Industrial Product Design Co...</td>\n",
       "      <td>C8-ED-FC</td>\n",
       "    </tr>\n",
       "    <tr>\n",
       "      <th>32709</th>\n",
       "      <td>Nokia Shanghai Bell Co., Ltd.</td>\n",
       "      <td>F8-22-29</td>\n",
       "    </tr>\n",
       "    <tr>\n",
       "      <th>32710</th>\n",
       "      <td>eero inc.</td>\n",
       "      <td>78-D6-D6</td>\n",
       "    </tr>\n",
       "    <tr>\n",
       "      <th>32711</th>\n",
       "      <td>TECNO MOBILE LIMITED</td>\n",
       "      <td>50-3C-CA</td>\n",
       "    </tr>\n",
       "    <tr>\n",
       "      <th>32712</th>\n",
       "      <td>Shenzhenshi Xinzhongxin Technology Co.Ltd</td>\n",
       "      <td>9C-0C-35</td>\n",
       "    </tr>\n",
       "  </tbody>\n",
       "</table>\n",
       "<p>32713 rows × 2 columns</p>\n",
       "</div>"
      ],
      "text/plain": [
       "                                             companyName       oui\n",
       "0                       American Micro-Fuel Device Corp.  00-22-72\n",
       "1                                                    IGT  00-D0-EF\n",
       "2                                    Rockwell Automation  08-61-95\n",
       "3                                     Cisco Systems, Inc  F4-BD-9E\n",
       "4      Realme Chongqing MobileTelecommunications Corp...  58-85-E9\n",
       "...                                                  ...       ...\n",
       "32708  Shenzhen Ideaform Industrial Product Design Co...  C8-ED-FC\n",
       "32709                      Nokia Shanghai Bell Co., Ltd.  F8-22-29\n",
       "32710                                          eero inc.  78-D6-D6\n",
       "32711                               TECNO MOBILE LIMITED  50-3C-CA\n",
       "32712          Shenzhenshi Xinzhongxin Technology Co.Ltd  9C-0C-35\n",
       "\n",
       "[32713 rows x 2 columns]"
      ]
     },
     "execution_count": 100,
     "metadata": {},
     "output_type": "execute_result"
    }
   ],
   "source": [
    "d_reduced"
   ]
  },
  {
   "cell_type": "code",
   "execution_count": null,
   "id": "236a77a4-cc8c-48a6-9fd6-820786986423",
   "metadata": {},
   "outputs": [],
   "source": []
  }
 ],
 "metadata": {
  "environment": {
   "kernel": "python3",
   "name": "common-cpu.m95",
   "type": "gcloud",
   "uri": "gcr.io/deeplearning-platform-release/base-cpu:m95"
  },
  "kernelspec": {
   "display_name": "Python 3 (ipykernel)",
   "language": "python",
   "name": "python3"
  },
  "language_info": {
   "codemirror_mode": {
    "name": "ipython",
    "version": 3
   },
   "file_extension": ".py",
   "mimetype": "text/x-python",
   "name": "python",
   "nbconvert_exporter": "python",
   "pygments_lexer": "ipython3",
   "version": "3.7.12"
  }
 },
 "nbformat": 4,
 "nbformat_minor": 5
}
